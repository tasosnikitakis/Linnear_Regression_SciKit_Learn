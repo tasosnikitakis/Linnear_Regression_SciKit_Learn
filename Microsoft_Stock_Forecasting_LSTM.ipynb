{
  "nbformat": 4,
  "nbformat_minor": 0,
  "metadata": {
    "colab": {
      "provenance": [],
      "authorship_tag": "ABX9TyPJQ+Ct8t35XWQm6LsVYlfI",
      "include_colab_link": true
    },
    "kernelspec": {
      "name": "python3",
      "display_name": "Python 3"
    },
    "language_info": {
      "name": "python"
    }
  },
  "cells": [
    {
      "cell_type": "markdown",
      "metadata": {
        "id": "view-in-github",
        "colab_type": "text"
      },
      "source": [
        "<a href=\"https://colab.research.google.com/github/tasosnikitakis/Machine-and-Deep-Learning/blob/main/Microsoft_Stock_Forecasting_LSTM.ipynb\" target=\"_parent\"><img src=\"https://colab.research.google.com/assets/colab-badge.svg\" alt=\"Open In Colab\"/></a>"
      ]
    },
    {
      "cell_type": "markdown",
      "source": [
        "# Importing and preproccesing Data"
      ],
      "metadata": {
        "id": "1CdwSV87qb-o"
      }
    },
    {
      "cell_type": "code",
      "source": [
        "import pandas as pd\n",
        "import numpy as np\n",
        "import matplotlib.pyplot as plt\n",
        "\n"
      ],
      "metadata": {
        "id": "tKGXLfwfqph2"
      },
      "execution_count": 10,
      "outputs": []
    },
    {
      "cell_type": "code",
      "source": [
        "df = pd.read_csv(\"MSFT.csv\")\n",
        "print(df)"
      ],
      "metadata": {
        "colab": {
          "base_uri": "https://localhost:8080/"
        },
        "id": "nNSf5Kkxq0j4",
        "outputId": "30347c1d-e62c-443a-8ad3-1c2256de7699"
      },
      "execution_count": 2,
      "outputs": [
        {
          "output_type": "stream",
          "name": "stdout",
          "text": [
            "            Date        Open        High         Low       Close   Adj Close  \\\n",
            "0     1986-03-13    0.088542    0.101563    0.088542    0.097222    0.060657   \n",
            "1     1986-03-14    0.097222    0.102431    0.097222    0.100694    0.062823   \n",
            "2     1986-03-17    0.100694    0.103299    0.100694    0.102431    0.063907   \n",
            "3     1986-03-18    0.102431    0.103299    0.098958    0.099826    0.062281   \n",
            "4     1986-03-19    0.099826    0.100694    0.097222    0.098090    0.061198   \n",
            "...          ...         ...         ...         ...         ...         ...   \n",
            "9362  2023-05-05  305.720001  311.970001  304.269989  310.649994  310.649994   \n",
            "9363  2023-05-08  310.130005  310.200012  306.089996  308.649994  308.649994   \n",
            "9364  2023-05-09  308.000000  310.040009  306.309998  307.000000  307.000000   \n",
            "9365  2023-05-10  308.619995  313.000000  307.670013  312.309998  312.309998   \n",
            "9366  2023-05-11  310.100006  311.119995  306.260010  310.109985  310.109985   \n",
            "\n",
            "          Volume  \n",
            "0     1031788800  \n",
            "1      308160000  \n",
            "2      133171200  \n",
            "3       67766400  \n",
            "4       47894400  \n",
            "...          ...  \n",
            "9362    28181200  \n",
            "9363    21318600  \n",
            "9364    21340800  \n",
            "9365    30078000  \n",
            "9366    31663200  \n",
            "\n",
            "[9367 rows x 7 columns]\n"
          ]
        }
      ]
    },
    {
      "cell_type": "code",
      "source": [
        "df = df[[\"Date\", \"Close\"]]\n",
        "print(df)"
      ],
      "metadata": {
        "colab": {
          "base_uri": "https://localhost:8080/"
        },
        "id": "5sXH62JPq9E5",
        "outputId": "a938b02f-0171-4b76-f412-455d2a00b325"
      },
      "execution_count": 4,
      "outputs": [
        {
          "output_type": "stream",
          "name": "stdout",
          "text": [
            "            Date       Close\n",
            "0     1986-03-13    0.097222\n",
            "1     1986-03-14    0.100694\n",
            "2     1986-03-17    0.102431\n",
            "3     1986-03-18    0.099826\n",
            "4     1986-03-19    0.098090\n",
            "...          ...         ...\n",
            "9362  2023-05-05  310.649994\n",
            "9363  2023-05-08  308.649994\n",
            "9364  2023-05-09  307.000000\n",
            "9365  2023-05-10  312.309998\n",
            "9366  2023-05-11  310.109985\n",
            "\n",
            "[9367 rows x 2 columns]\n"
          ]
        }
      ]
    },
    {
      "cell_type": "code",
      "source": [
        "import datetime\n",
        "def str_to_datetime(s):\n",
        "  split = s.split(\"-\")\n",
        "  year, month, day = int(split[0]), int(split[1]), int(split[2])\n",
        "  return datetime.datetime(year=year, month=month, day=day)\n",
        "df[\"Date\"] = df[\"Date\"].apply(str_to_datetime)\n"
      ],
      "metadata": {
        "colab": {
          "base_uri": "https://localhost:8080/"
        },
        "id": "xrSPHwP-rsnh",
        "outputId": "e63fa391-4f31-490d-ca9e-d751fe29c738"
      },
      "execution_count": 7,
      "outputs": [
        {
          "output_type": "stream",
          "name": "stderr",
          "text": [
            "<ipython-input-7-d3419f67a08c>:6: SettingWithCopyWarning: \n",
            "A value is trying to be set on a copy of a slice from a DataFrame.\n",
            "Try using .loc[row_indexer,col_indexer] = value instead\n",
            "\n",
            "See the caveats in the documentation: https://pandas.pydata.org/pandas-docs/stable/user_guide/indexing.html#returning-a-view-versus-a-copy\n",
            "  df[\"Date\"] = df[\"Date\"].apply(str_to_datetime)\n"
          ]
        },
        {
          "output_type": "execute_result",
          "data": {
            "text/plain": [
              "0      1986-03-13\n",
              "1      1986-03-14\n",
              "2      1986-03-17\n",
              "3      1986-03-18\n",
              "4      1986-03-19\n",
              "          ...    \n",
              "9362   2023-05-05\n",
              "9363   2023-05-08\n",
              "9364   2023-05-09\n",
              "9365   2023-05-10\n",
              "9366   2023-05-11\n",
              "Name: Date, Length: 9367, dtype: datetime64[ns]"
            ]
          },
          "metadata": {},
          "execution_count": 7
        }
      ]
    },
    {
      "cell_type": "code",
      "source": [
        "df.index = df.pop(\"Date\")\n",
        "df"
      ],
      "metadata": {
        "colab": {
          "base_uri": "https://localhost:8080/",
          "height": 455
        },
        "id": "jbVTA2_Ftnc6",
        "outputId": "120bf515-b541-43a3-d157-54099a42bf78"
      },
      "execution_count": 8,
      "outputs": [
        {
          "output_type": "execute_result",
          "data": {
            "text/plain": [
              "                 Close\n",
              "Date                  \n",
              "1986-03-13    0.097222\n",
              "1986-03-14    0.100694\n",
              "1986-03-17    0.102431\n",
              "1986-03-18    0.099826\n",
              "1986-03-19    0.098090\n",
              "...                ...\n",
              "2023-05-05  310.649994\n",
              "2023-05-08  308.649994\n",
              "2023-05-09  307.000000\n",
              "2023-05-10  312.309998\n",
              "2023-05-11  310.109985\n",
              "\n",
              "[9367 rows x 1 columns]"
            ],
            "text/html": [
              "\n",
              "  <div id=\"df-4cf3b7e7-b446-4330-a214-d46f85433ac6\">\n",
              "    <div class=\"colab-df-container\">\n",
              "      <div>\n",
              "<style scoped>\n",
              "    .dataframe tbody tr th:only-of-type {\n",
              "        vertical-align: middle;\n",
              "    }\n",
              "\n",
              "    .dataframe tbody tr th {\n",
              "        vertical-align: top;\n",
              "    }\n",
              "\n",
              "    .dataframe thead th {\n",
              "        text-align: right;\n",
              "    }\n",
              "</style>\n",
              "<table border=\"1\" class=\"dataframe\">\n",
              "  <thead>\n",
              "    <tr style=\"text-align: right;\">\n",
              "      <th></th>\n",
              "      <th>Close</th>\n",
              "    </tr>\n",
              "    <tr>\n",
              "      <th>Date</th>\n",
              "      <th></th>\n",
              "    </tr>\n",
              "  </thead>\n",
              "  <tbody>\n",
              "    <tr>\n",
              "      <th>1986-03-13</th>\n",
              "      <td>0.097222</td>\n",
              "    </tr>\n",
              "    <tr>\n",
              "      <th>1986-03-14</th>\n",
              "      <td>0.100694</td>\n",
              "    </tr>\n",
              "    <tr>\n",
              "      <th>1986-03-17</th>\n",
              "      <td>0.102431</td>\n",
              "    </tr>\n",
              "    <tr>\n",
              "      <th>1986-03-18</th>\n",
              "      <td>0.099826</td>\n",
              "    </tr>\n",
              "    <tr>\n",
              "      <th>1986-03-19</th>\n",
              "      <td>0.098090</td>\n",
              "    </tr>\n",
              "    <tr>\n",
              "      <th>...</th>\n",
              "      <td>...</td>\n",
              "    </tr>\n",
              "    <tr>\n",
              "      <th>2023-05-05</th>\n",
              "      <td>310.649994</td>\n",
              "    </tr>\n",
              "    <tr>\n",
              "      <th>2023-05-08</th>\n",
              "      <td>308.649994</td>\n",
              "    </tr>\n",
              "    <tr>\n",
              "      <th>2023-05-09</th>\n",
              "      <td>307.000000</td>\n",
              "    </tr>\n",
              "    <tr>\n",
              "      <th>2023-05-10</th>\n",
              "      <td>312.309998</td>\n",
              "    </tr>\n",
              "    <tr>\n",
              "      <th>2023-05-11</th>\n",
              "      <td>310.109985</td>\n",
              "    </tr>\n",
              "  </tbody>\n",
              "</table>\n",
              "<p>9367 rows × 1 columns</p>\n",
              "</div>\n",
              "      <button class=\"colab-df-convert\" onclick=\"convertToInteractive('df-4cf3b7e7-b446-4330-a214-d46f85433ac6')\"\n",
              "              title=\"Convert this dataframe to an interactive table.\"\n",
              "              style=\"display:none;\">\n",
              "        \n",
              "  <svg xmlns=\"http://www.w3.org/2000/svg\" height=\"24px\"viewBox=\"0 0 24 24\"\n",
              "       width=\"24px\">\n",
              "    <path d=\"M0 0h24v24H0V0z\" fill=\"none\"/>\n",
              "    <path d=\"M18.56 5.44l.94 2.06.94-2.06 2.06-.94-2.06-.94-.94-2.06-.94 2.06-2.06.94zm-11 1L8.5 8.5l.94-2.06 2.06-.94-2.06-.94L8.5 2.5l-.94 2.06-2.06.94zm10 10l.94 2.06.94-2.06 2.06-.94-2.06-.94-.94-2.06-.94 2.06-2.06.94z\"/><path d=\"M17.41 7.96l-1.37-1.37c-.4-.4-.92-.59-1.43-.59-.52 0-1.04.2-1.43.59L10.3 9.45l-7.72 7.72c-.78.78-.78 2.05 0 2.83L4 21.41c.39.39.9.59 1.41.59.51 0 1.02-.2 1.41-.59l7.78-7.78 2.81-2.81c.8-.78.8-2.07 0-2.86zM5.41 20L4 18.59l7.72-7.72 1.47 1.35L5.41 20z\"/>\n",
              "  </svg>\n",
              "      </button>\n",
              "      \n",
              "  <style>\n",
              "    .colab-df-container {\n",
              "      display:flex;\n",
              "      flex-wrap:wrap;\n",
              "      gap: 12px;\n",
              "    }\n",
              "\n",
              "    .colab-df-convert {\n",
              "      background-color: #E8F0FE;\n",
              "      border: none;\n",
              "      border-radius: 50%;\n",
              "      cursor: pointer;\n",
              "      display: none;\n",
              "      fill: #1967D2;\n",
              "      height: 32px;\n",
              "      padding: 0 0 0 0;\n",
              "      width: 32px;\n",
              "    }\n",
              "\n",
              "    .colab-df-convert:hover {\n",
              "      background-color: #E2EBFA;\n",
              "      box-shadow: 0px 1px 2px rgba(60, 64, 67, 0.3), 0px 1px 3px 1px rgba(60, 64, 67, 0.15);\n",
              "      fill: #174EA6;\n",
              "    }\n",
              "\n",
              "    [theme=dark] .colab-df-convert {\n",
              "      background-color: #3B4455;\n",
              "      fill: #D2E3FC;\n",
              "    }\n",
              "\n",
              "    [theme=dark] .colab-df-convert:hover {\n",
              "      background-color: #434B5C;\n",
              "      box-shadow: 0px 1px 3px 1px rgba(0, 0, 0, 0.15);\n",
              "      filter: drop-shadow(0px 1px 2px rgba(0, 0, 0, 0.3));\n",
              "      fill: #FFFFFF;\n",
              "    }\n",
              "  </style>\n",
              "\n",
              "      <script>\n",
              "        const buttonEl =\n",
              "          document.querySelector('#df-4cf3b7e7-b446-4330-a214-d46f85433ac6 button.colab-df-convert');\n",
              "        buttonEl.style.display =\n",
              "          google.colab.kernel.accessAllowed ? 'block' : 'none';\n",
              "\n",
              "        async function convertToInteractive(key) {\n",
              "          const element = document.querySelector('#df-4cf3b7e7-b446-4330-a214-d46f85433ac6');\n",
              "          const dataTable =\n",
              "            await google.colab.kernel.invokeFunction('convertToInteractive',\n",
              "                                                     [key], {});\n",
              "          if (!dataTable) return;\n",
              "\n",
              "          const docLinkHtml = 'Like what you see? Visit the ' +\n",
              "            '<a target=\"_blank\" href=https://colab.research.google.com/notebooks/data_table.ipynb>data table notebook</a>'\n",
              "            + ' to learn more about interactive tables.';\n",
              "          element.innerHTML = '';\n",
              "          dataTable['output_type'] = 'display_data';\n",
              "          await google.colab.output.renderOutput(dataTable, element);\n",
              "          const docLink = document.createElement('div');\n",
              "          docLink.innerHTML = docLinkHtml;\n",
              "          element.appendChild(docLink);\n",
              "        }\n",
              "      </script>\n",
              "    </div>\n",
              "  </div>\n",
              "  "
            ]
          },
          "metadata": {},
          "execution_count": 8
        }
      ]
    },
    {
      "cell_type": "code",
      "source": [
        "plt.plot(df.index, df['Close'])"
      ],
      "metadata": {
        "colab": {
          "base_uri": "https://localhost:8080/",
          "height": 447
        },
        "id": "IxGzSUS1ufgp",
        "outputId": "45abe423-7438-4621-d0d9-b18cf7bb6998"
      },
      "execution_count": 11,
      "outputs": [
        {
          "output_type": "execute_result",
          "data": {
            "text/plain": [
              "[<matplotlib.lines.Line2D at 0x7fdddfa83af0>]"
            ]
          },
          "metadata": {},
          "execution_count": 11
        },
        {
          "output_type": "display_data",
          "data": {
            "text/plain": [
              "<Figure size 640x480 with 1 Axes>"
            ],
            "image/png": "[encoded data removed]"
          },
          "metadata": {}
        }
      ]
    }
  ]
}