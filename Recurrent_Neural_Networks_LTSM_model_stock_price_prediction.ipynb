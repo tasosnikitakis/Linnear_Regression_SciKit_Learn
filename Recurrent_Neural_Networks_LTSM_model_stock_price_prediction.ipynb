{
  "nbformat": 4,
  "nbformat_minor": 0,
  "metadata": {
    "colab": {
      "provenance": [],
      "gpuType": "T4",
      "include_colab_link": true
    },
    "kernelspec": {
      "name": "python3",
      "display_name": "Python 3"
    },
    "accelerator": "GPU",
    "gpuClass": "standard"
  },
  "cells": [
    {
      "cell_type": "markdown",
      "metadata": {
        "id": "view-in-github",
        "colab_type": "text"
      },
      "source": [
        "<a href=\"https://colab.research.google.com/github/tasosnikitakis/Machine-and-Deep-Learning/blob/main/Recurrent_Neural_Networks_LTSM_model_stock_price_prediction.ipynb\" target=\"_parent\"><img src=\"https://colab.research.google.com/assets/colab-badge.svg\" alt=\"Open In Colab\"/></a>"
      ]
    },
    {
      "cell_type": "markdown",
      "metadata": {
        "id": "xpAuMVCwfWs8"
      },
      "source": [
        "# Recurrent Neural Network"
      ]
    },
    {
      "cell_type": "markdown",
      "metadata": {
        "id": "nxJfRe4bfYVA"
      },
      "source": [
        "## Part 1 - Data Preprocessing"
      ]
    },
    {
      "cell_type": "markdown",
      "metadata": {
        "id": "ir9zwETrfbrp"
      },
      "source": [
        "### Importing the libraries"
      ]
    },
    {
      "cell_type": "code",
      "metadata": {
        "id": "ZT1f24vHffuf"
      },
      "source": [
        "import numpy as np\n",
        "import matplotlib.pyplot as plt\n",
        "import pandas as pd"
      ],
      "execution_count": 1,
      "outputs": []
    },
    {
      "cell_type": "markdown",
      "metadata": {
        "id": "nQ47JAxrgmaL"
      },
      "source": [
        "### Importing the training set"
      ]
    },
    {
      "cell_type": "code",
      "metadata": {
        "id": "1xiv3pJOgqY3",
        "colab": {
          "base_uri": "https://localhost:8080/"
        },
        "outputId": "491d1d98-7a83-4873-d0e4-624b88c6bc22"
      },
      "source": [
        "dataset_train = pd.read_csv('Google_Stock_Price_Train.csv')\n",
        "training_set = dataset_train.iloc[:, 1:2].values\n",
        "print(training_set)"
      ],
      "execution_count": 2,
      "outputs": [
        {
          "output_type": "stream",
          "name": "stdout",
          "text": [
            "[[325.25]\n",
            " [331.27]\n",
            " [329.83]\n",
            " ...\n",
            " [793.7 ]\n",
            " [783.33]\n",
            " [782.75]]\n"
          ]
        }
      ]
    },
    {
      "cell_type": "markdown",
      "metadata": {
        "id": "HT8_2UJegtG5"
      },
      "source": [
        "### Feature Scaling"
      ]
    },
    {
      "cell_type": "code",
      "source": [
        "from sklearn.preprocessing import MinMaxScaler\n",
        "sc = MinMaxScaler(feature_range=(0,1))\n",
        "training_set_scaled = sc.fit_transform(training_set)\n",
        "print(training_set_scaled)"
      ],
      "metadata": {
        "id": "rLSfliUOeh7v",
        "colab": {
          "base_uri": "https://localhost:8080/"
        },
        "outputId": "78cecd22-d41f-42cc-b6f7-213fe613a27d"
      },
      "execution_count": 3,
      "outputs": [
        {
          "output_type": "stream",
          "name": "stdout",
          "text": [
            "[[0.08581368]\n",
            " [0.09701243]\n",
            " [0.09433366]\n",
            " ...\n",
            " [0.95725128]\n",
            " [0.93796041]\n",
            " [0.93688146]]\n"
          ]
        }
      ]
    },
    {
      "cell_type": "markdown",
      "metadata": {
        "id": "JyYgYocqhNUg"
      },
      "source": [
        "### Creating a data structure with 60 timesteps and 1 output"
      ]
    },
    {
      "cell_type": "code",
      "source": [
        "X_train = []\n",
        "y_train = []\n",
        "for i in range(60, 1258):\n",
        "  X_train.append(training_set_scaled[i-60:i, 0])\n",
        "  y_train.append(training_set_scaled[i, 0])\n",
        "X_train, y_train = np.array(X_train), np.array(y_train)\n",
        "print(y_train)"
      ],
      "metadata": {
        "colab": {
          "base_uri": "https://localhost:8080/"
        },
        "id": "WKNgwNCn1U3V",
        "outputId": "12e71e70-ce06-486e-8e40-14f25c18bd22"
      },
      "execution_count": 4,
      "outputs": [
        {
          "output_type": "stream",
          "name": "stdout",
          "text": [
            "[0.08627874 0.08471612 0.07454052 ... 0.95725128 0.93796041 0.93688146]\n"
          ]
        }
      ]
    },
    {
      "cell_type": "markdown",
      "metadata": {
        "id": "D8yaN7Zvi95l"
      },
      "source": [
        "### Reshaping"
      ]
    },
    {
      "cell_type": "code",
      "source": [
        "X_train = np.reshape(X_train, (X_train.shape[0], X_train.shape[1], 1))\n",
        "print(X_train)"
      ],
      "metadata": {
        "colab": {
          "base_uri": "https://localhost:8080/"
        },
        "id": "zhQxaUQtVV60",
        "outputId": "1178f6ed-2780-4b2f-80fa-55cf14fe949f"
      },
      "execution_count": 5,
      "outputs": [
        {
          "output_type": "stream",
          "name": "stdout",
          "text": [
            "[[[0.08581368]\n",
            "  [0.09701243]\n",
            "  [0.09433366]\n",
            "  ...\n",
            "  [0.07846566]\n",
            "  [0.08034452]\n",
            "  [0.08497656]]\n",
            "\n",
            " [[0.09701243]\n",
            "  [0.09433366]\n",
            "  [0.09156187]\n",
            "  ...\n",
            "  [0.08034452]\n",
            "  [0.08497656]\n",
            "  [0.08627874]]\n",
            "\n",
            " [[0.09433366]\n",
            "  [0.09156187]\n",
            "  [0.07984225]\n",
            "  ...\n",
            "  [0.08497656]\n",
            "  [0.08627874]\n",
            "  [0.08471612]]\n",
            "\n",
            " ...\n",
            "\n",
            " [[0.92106928]\n",
            "  [0.92438053]\n",
            "  [0.93048218]\n",
            "  ...\n",
            "  [0.95475854]\n",
            "  [0.95204256]\n",
            "  [0.95163331]]\n",
            "\n",
            " [[0.92438053]\n",
            "  [0.93048218]\n",
            "  [0.9299055 ]\n",
            "  ...\n",
            "  [0.95204256]\n",
            "  [0.95163331]\n",
            "  [0.95725128]]\n",
            "\n",
            " [[0.93048218]\n",
            "  [0.9299055 ]\n",
            "  [0.93113327]\n",
            "  ...\n",
            "  [0.95163331]\n",
            "  [0.95725128]\n",
            "  [0.93796041]]]\n"
          ]
        }
      ]
    },
    {
      "cell_type": "markdown",
      "metadata": {
        "id": "ZRRSOJeVjEWV"
      },
      "source": [
        "## Part 2 - Building and Training the RNN"
      ]
    },
    {
      "cell_type": "markdown",
      "metadata": {
        "id": "k4XV88JMjHXG"
      },
      "source": [
        "### Importing the Keras libraries and packages"
      ]
    },
    {
      "cell_type": "code",
      "source": [
        "from keras.models import Sequential\n",
        "from keras.layers import Dense\n",
        "from keras.layers import LSTM\n",
        "from keras.layers import Dropout"
      ],
      "metadata": {
        "id": "mqWBhXRTXt8F"
      },
      "execution_count": 6,
      "outputs": []
    },
    {
      "cell_type": "markdown",
      "metadata": {
        "id": "FEIE-1s9jNzC"
      },
      "source": [
        "### Initialising the RNN"
      ]
    },
    {
      "cell_type": "code",
      "source": [
        "regressor = Sequential()"
      ],
      "metadata": {
        "id": "dHDnIvKwX8x6"
      },
      "execution_count": 7,
      "outputs": []
    },
    {
      "cell_type": "markdown",
      "metadata": {
        "id": "62eg1OPGjT8z"
      },
      "source": [
        "### Adding the first LSTM layer and some Dropout regularisation"
      ]
    },
    {
      "cell_type": "code",
      "source": [
        "regressor.add(LSTM(units=50, return_sequences=True, input_shape=(X_train.shape[1], 1)))\n",
        "regressor.add(Dropout(0.2))"
      ],
      "metadata": {
        "id": "U8lSZukQYY2G"
      },
      "execution_count": 8,
      "outputs": []
    },
    {
      "cell_type": "markdown",
      "source": [
        "Here we add the first LSTM layer with the LSTM method. We need to specify three arguments and all the others will be left to their default values. The number of memory cells or neurons is specified with the units parameter and because we need to have a high dimensionality we choose 50. We then set return_sequences to \"True\" because we are creating a stacked LSTM and we will have additional layers after the first one. The last one is input_shape and we need to only specify the last two dimensions of the X_train input array, meaning X_train.shape[1] and  1 corresponding to the time steps (60 in our case) and the indicators (one). We are also adding Dropout reguralisation by adding the Dropout object from the relevant class. The most used value is 0,20 meaning we drop 20% of the neurons in the layer for normalisation purposes."
      ],
      "metadata": {
        "id": "WDGusIPAZhnI"
      }
    },
    {
      "cell_type": "markdown",
      "metadata": {
        "id": "3XBIYLyOjlMx"
      },
      "source": [
        "### Adding a second LSTM layer and some Dropout regularisation"
      ]
    },
    {
      "cell_type": "code",
      "source": [
        "regressor.add(LSTM(units=50, return_sequences=True))\n",
        "regressor.add(Dropout(0.2))"
      ],
      "metadata": {
        "id": "O12kSNorcBiX"
      },
      "execution_count": 9,
      "outputs": []
    },
    {
      "cell_type": "markdown",
      "metadata": {
        "id": "Ey3fHVnGj1cu"
      },
      "source": [
        "### Adding a third LSTM layer and some Dropout regularisation"
      ]
    },
    {
      "cell_type": "code",
      "source": [
        "regressor.add(LSTM(units=50, return_sequences=True))\n",
        "regressor.add(Dropout(0.2))"
      ],
      "metadata": {
        "id": "hFECMkYAcFxf"
      },
      "execution_count": 10,
      "outputs": []
    },
    {
      "cell_type": "markdown",
      "metadata": {
        "id": "SYTrtfTmj933"
      },
      "source": [
        "### Adding a fourth LSTM layer and some Dropout regularisation"
      ]
    },
    {
      "cell_type": "code",
      "source": [
        "regressor.add(LSTM(units=50))\n",
        "regressor.add(Dropout(0.2))"
      ],
      "metadata": {
        "id": "2zKSv55HcGRt"
      },
      "execution_count": 11,
      "outputs": []
    },
    {
      "cell_type": "markdown",
      "source": [
        "The final layer does not need to have return_sequences set to True so we remove the argument altogether"
      ],
      "metadata": {
        "id": "V4a0jPafda_O"
      }
    },
    {
      "cell_type": "markdown",
      "metadata": {
        "id": "9ABI6rOIkHhk"
      },
      "source": [
        "### Adding the output layer"
      ]
    },
    {
      "cell_type": "code",
      "source": [
        "regressor.add(Dense(units = 1))"
      ],
      "metadata": {
        "id": "fHrhAfP4driu"
      },
      "execution_count": 12,
      "outputs": []
    },
    {
      "cell_type": "markdown",
      "metadata": {
        "id": "zLx4K7uUkPSh"
      },
      "source": [
        "### Compiling the RNN"
      ]
    },
    {
      "cell_type": "code",
      "source": [
        "regressor.compile(optimizer=\"adam\", loss = \"mean_squared_error\")"
      ],
      "metadata": {
        "id": "7BUWXlmIe7hj"
      },
      "execution_count": 13,
      "outputs": []
    },
    {
      "cell_type": "markdown",
      "source": [
        "We are using the adam (stochastic gradient descent) optimizer instead of to RMSprop stock on of the keras module as it offers a more powerful approach to this problem. As for the loss function because we are dealing with a problem of continuous values it is in essence a regression problem and we need the mean squared error loss function."
      ],
      "metadata": {
        "id": "7tFR_sMliJy8"
      }
    },
    {
      "cell_type": "markdown",
      "metadata": {
        "id": "-mPhwKGkkebi"
      },
      "source": [
        "### Fitting the RNN to the Training set"
      ]
    },
    {
      "cell_type": "code",
      "source": [
        "regressor.fit(X_train, y_train, epochs = 100, batch_size=32)"
      ],
      "metadata": {
        "colab": {
          "base_uri": "https://localhost:8080/"
        },
        "id": "lDO1vC3ij-BR",
        "outputId": "d6c5e65d-7a6d-4c52-bf87-4e2862f39eba"
      },
      "execution_count": 14,
      "outputs": [
        {
          "output_type": "stream",
          "name": "stdout",
          "text": [
            "Epoch 1/100\n",
            "38/38 [==============================] - 12s 15ms/step - loss: 0.0364\n",
            "Epoch 2/100\n",
            "38/38 [==============================] - 0s 13ms/step - loss: 0.0074\n",
            "Epoch 3/100\n",
            "38/38 [==============================] - 0s 13ms/step - loss: 0.0054\n",
            "Epoch 4/100\n",
            "38/38 [==============================] - 0s 13ms/step - loss: 0.0051\n",
            "Epoch 5/100\n",
            "38/38 [==============================] - 0s 13ms/step - loss: 0.0047\n",
            "Epoch 6/100\n",
            "38/38 [==============================] - 0s 12ms/step - loss: 0.0048\n",
            "Epoch 7/100\n",
            "38/38 [==============================] - 0s 13ms/step - loss: 0.0046\n",
            "Epoch 8/100\n",
            "38/38 [==============================] - 0s 12ms/step - loss: 0.0045\n",
            "Epoch 9/100\n",
            "38/38 [==============================] - 0s 13ms/step - loss: 0.0043\n",
            "Epoch 10/100\n",
            "38/38 [==============================] - 0s 12ms/step - loss: 0.0048\n",
            "Epoch 11/100\n",
            "38/38 [==============================] - 0s 13ms/step - loss: 0.0044\n",
            "Epoch 12/100\n",
            "38/38 [==============================] - 1s 17ms/step - loss: 0.0039\n",
            "Epoch 13/100\n",
            "38/38 [==============================] - 1s 19ms/step - loss: 0.0040\n",
            "Epoch 14/100\n",
            "38/38 [==============================] - 1s 18ms/step - loss: 0.0043\n",
            "Epoch 15/100\n",
            "38/38 [==============================] - 1s 13ms/step - loss: 0.0039\n",
            "Epoch 16/100\n",
            "38/38 [==============================] - 0s 12ms/step - loss: 0.0039\n",
            "Epoch 17/100\n",
            "38/38 [==============================] - 0s 13ms/step - loss: 0.0038\n",
            "Epoch 18/100\n",
            "38/38 [==============================] - 0s 13ms/step - loss: 0.0036\n",
            "Epoch 19/100\n",
            "38/38 [==============================] - 0s 12ms/step - loss: 0.0038\n",
            "Epoch 20/100\n",
            "38/38 [==============================] - 0s 13ms/step - loss: 0.0038\n",
            "Epoch 21/100\n",
            "38/38 [==============================] - 0s 13ms/step - loss: 0.0035\n",
            "Epoch 22/100\n",
            "38/38 [==============================] - 0s 13ms/step - loss: 0.0035\n",
            "Epoch 23/100\n",
            "38/38 [==============================] - 0s 13ms/step - loss: 0.0034\n",
            "Epoch 24/100\n",
            "38/38 [==============================] - 0s 12ms/step - loss: 0.0037\n",
            "Epoch 25/100\n",
            "38/38 [==============================] - 0s 12ms/step - loss: 0.0034\n",
            "Epoch 26/100\n",
            "38/38 [==============================] - 0s 12ms/step - loss: 0.0032\n",
            "Epoch 27/100\n",
            "38/38 [==============================] - 0s 13ms/step - loss: 0.0031\n",
            "Epoch 28/100\n",
            "38/38 [==============================] - 0s 13ms/step - loss: 0.0033\n",
            "Epoch 29/100\n",
            "38/38 [==============================] - 0s 13ms/step - loss: 0.0030\n",
            "Epoch 30/100\n",
            "38/38 [==============================] - 0s 12ms/step - loss: 0.0030\n",
            "Epoch 31/100\n",
            "38/38 [==============================] - 0s 13ms/step - loss: 0.0028\n",
            "Epoch 32/100\n",
            "38/38 [==============================] - 0s 12ms/step - loss: 0.0032\n",
            "Epoch 33/100\n",
            "38/38 [==============================] - 0s 12ms/step - loss: 0.0028\n",
            "Epoch 34/100\n",
            "38/38 [==============================] - 0s 12ms/step - loss: 0.0026\n",
            "Epoch 35/100\n",
            "38/38 [==============================] - 0s 13ms/step - loss: 0.0026\n",
            "Epoch 36/100\n",
            "38/38 [==============================] - 1s 18ms/step - loss: 0.0029\n",
            "Epoch 37/100\n",
            "38/38 [==============================] - 1s 17ms/step - loss: 0.0027\n",
            "Epoch 38/100\n",
            "38/38 [==============================] - 1s 17ms/step - loss: 0.0031\n",
            "Epoch 39/100\n",
            "38/38 [==============================] - 1s 15ms/step - loss: 0.0028\n",
            "Epoch 40/100\n",
            "38/38 [==============================] - 0s 13ms/step - loss: 0.0029\n",
            "Epoch 41/100\n",
            "38/38 [==============================] - 0s 12ms/step - loss: 0.0026\n",
            "Epoch 42/100\n",
            "38/38 [==============================] - 0s 12ms/step - loss: 0.0026\n",
            "Epoch 43/100\n",
            "38/38 [==============================] - 0s 12ms/step - loss: 0.0023\n",
            "Epoch 44/100\n",
            "38/38 [==============================] - 0s 12ms/step - loss: 0.0024\n",
            "Epoch 45/100\n",
            "38/38 [==============================] - 0s 12ms/step - loss: 0.0025\n",
            "Epoch 46/100\n",
            "38/38 [==============================] - 0s 13ms/step - loss: 0.0027\n",
            "Epoch 47/100\n",
            "38/38 [==============================] - 0s 13ms/step - loss: 0.0025\n",
            "Epoch 48/100\n",
            "38/38 [==============================] - 1s 13ms/step - loss: 0.0027\n",
            "Epoch 49/100\n",
            "38/38 [==============================] - 1s 13ms/step - loss: 0.0023\n",
            "Epoch 50/100\n",
            "38/38 [==============================] - 0s 13ms/step - loss: 0.0024\n",
            "Epoch 51/100\n",
            "38/38 [==============================] - 0s 12ms/step - loss: 0.0024\n",
            "Epoch 52/100\n",
            "38/38 [==============================] - 0s 12ms/step - loss: 0.0023\n",
            "Epoch 53/100\n",
            "38/38 [==============================] - 0s 12ms/step - loss: 0.0024\n",
            "Epoch 54/100\n",
            "38/38 [==============================] - 0s 12ms/step - loss: 0.0023\n",
            "Epoch 55/100\n",
            "38/38 [==============================] - 0s 13ms/step - loss: 0.0023\n",
            "Epoch 56/100\n",
            "38/38 [==============================] - 0s 12ms/step - loss: 0.0021\n",
            "Epoch 57/100\n",
            "38/38 [==============================] - 0s 12ms/step - loss: 0.0021\n",
            "Epoch 58/100\n",
            "38/38 [==============================] - 0s 12ms/step - loss: 0.0021\n",
            "Epoch 59/100\n",
            "38/38 [==============================] - 0s 12ms/step - loss: 0.0022\n",
            "Epoch 60/100\n",
            "38/38 [==============================] - 1s 17ms/step - loss: 0.0021\n",
            "Epoch 61/100\n",
            "38/38 [==============================] - 1s 17ms/step - loss: 0.0021\n",
            "Epoch 62/100\n",
            "38/38 [==============================] - 1s 18ms/step - loss: 0.0021\n",
            "Epoch 63/100\n",
            "38/38 [==============================] - 1s 14ms/step - loss: 0.0021\n",
            "Epoch 64/100\n",
            "38/38 [==============================] - 0s 12ms/step - loss: 0.0024\n",
            "Epoch 65/100\n",
            "38/38 [==============================] - 0s 12ms/step - loss: 0.0022\n",
            "Epoch 66/100\n",
            "38/38 [==============================] - 0s 12ms/step - loss: 0.0019\n",
            "Epoch 67/100\n",
            "38/38 [==============================] - 0s 13ms/step - loss: 0.0017\n",
            "Epoch 68/100\n",
            "38/38 [==============================] - 0s 13ms/step - loss: 0.0021\n",
            "Epoch 69/100\n",
            "38/38 [==============================] - 0s 13ms/step - loss: 0.0021\n",
            "Epoch 70/100\n",
            "38/38 [==============================] - 0s 13ms/step - loss: 0.0018\n",
            "Epoch 71/100\n",
            "38/38 [==============================] - 0s 13ms/step - loss: 0.0018\n",
            "Epoch 72/100\n",
            "38/38 [==============================] - 0s 13ms/step - loss: 0.0020\n",
            "Epoch 73/100\n",
            "38/38 [==============================] - 0s 13ms/step - loss: 0.0021\n",
            "Epoch 74/100\n",
            "38/38 [==============================] - 0s 12ms/step - loss: 0.0019\n",
            "Epoch 75/100\n",
            "38/38 [==============================] - 0s 13ms/step - loss: 0.0018\n",
            "Epoch 76/100\n",
            "38/38 [==============================] - 0s 12ms/step - loss: 0.0020\n",
            "Epoch 77/100\n",
            "38/38 [==============================] - 0s 13ms/step - loss: 0.0017\n",
            "Epoch 78/100\n",
            "38/38 [==============================] - 0s 12ms/step - loss: 0.0018\n",
            "Epoch 79/100\n",
            "38/38 [==============================] - 0s 13ms/step - loss: 0.0018\n",
            "Epoch 80/100\n",
            "38/38 [==============================] - 0s 12ms/step - loss: 0.0018\n",
            "Epoch 81/100\n",
            "38/38 [==============================] - 0s 12ms/step - loss: 0.0018\n",
            "Epoch 82/100\n",
            "38/38 [==============================] - 0s 12ms/step - loss: 0.0019\n",
            "Epoch 83/100\n",
            "38/38 [==============================] - 0s 12ms/step - loss: 0.0017\n",
            "Epoch 84/100\n",
            "38/38 [==============================] - 1s 16ms/step - loss: 0.0017\n",
            "Epoch 85/100\n",
            "38/38 [==============================] - 1s 17ms/step - loss: 0.0016\n",
            "Epoch 86/100\n",
            "38/38 [==============================] - 1s 17ms/step - loss: 0.0017\n",
            "Epoch 87/100\n",
            "38/38 [==============================] - 1s 16ms/step - loss: 0.0017\n",
            "Epoch 88/100\n",
            "38/38 [==============================] - 0s 13ms/step - loss: 0.0018\n",
            "Epoch 89/100\n",
            "38/38 [==============================] - 0s 12ms/step - loss: 0.0016\n",
            "Epoch 90/100\n",
            "38/38 [==============================] - 0s 12ms/step - loss: 0.0016\n",
            "Epoch 91/100\n",
            "38/38 [==============================] - 0s 12ms/step - loss: 0.0017\n",
            "Epoch 92/100\n",
            "38/38 [==============================] - 0s 12ms/step - loss: 0.0015\n",
            "Epoch 93/100\n",
            "38/38 [==============================] - 0s 12ms/step - loss: 0.0014\n",
            "Epoch 94/100\n",
            "38/38 [==============================] - 0s 13ms/step - loss: 0.0015\n",
            "Epoch 95/100\n",
            "38/38 [==============================] - 0s 13ms/step - loss: 0.0016\n",
            "Epoch 96/100\n",
            "38/38 [==============================] - 0s 12ms/step - loss: 0.0017\n",
            "Epoch 97/100\n",
            "38/38 [==============================] - 0s 12ms/step - loss: 0.0015\n",
            "Epoch 98/100\n",
            "38/38 [==============================] - 0s 13ms/step - loss: 0.0015\n",
            "Epoch 99/100\n",
            "38/38 [==============================] - 0s 13ms/step - loss: 0.0016\n",
            "Epoch 100/100\n",
            "38/38 [==============================] - 0s 12ms/step - loss: 0.0016\n"
          ]
        },
        {
          "output_type": "execute_result",
          "data": {
            "text/plain": [
              "<keras.callbacks.History at 0x7fc66d383cd0>"
            ]
          },
          "metadata": {},
          "execution_count": 14
        }
      ]
    },
    {
      "cell_type": "markdown",
      "metadata": {
        "id": "4hRau_lIkrE8"
      },
      "source": [
        "## Part 3 - Making the predictions and visualising the results"
      ]
    },
    {
      "cell_type": "markdown",
      "metadata": {
        "id": "SgJO6qEDksxD"
      },
      "source": [
        "### Getting the real stock price of 2017"
      ]
    },
    {
      "cell_type": "code",
      "source": [
        "dataset_test = pd.read_csv('Google_Stock_Price_Test.csv')\n",
        "real_stock_price = dataset_test.iloc[:, 1:2].values\n",
        "print(real_stock_price)"
      ],
      "metadata": {
        "colab": {
          "base_uri": "https://localhost:8080/"
        },
        "id": "I8U7v-6lwBbC",
        "outputId": "9dc4a827-72fb-405d-9370-4c6a0440c62c"
      },
      "execution_count": 15,
      "outputs": [
        {
          "output_type": "stream",
          "name": "stdout",
          "text": [
            "[[778.81]\n",
            " [788.36]\n",
            " [786.08]\n",
            " [795.26]\n",
            " [806.4 ]\n",
            " [807.86]\n",
            " [805.  ]\n",
            " [807.14]\n",
            " [807.48]\n",
            " [807.08]\n",
            " [805.81]\n",
            " [805.12]\n",
            " [806.91]\n",
            " [807.25]\n",
            " [822.3 ]\n",
            " [829.62]\n",
            " [837.81]\n",
            " [834.71]\n",
            " [814.66]\n",
            " [796.86]]\n"
          ]
        }
      ]
    },
    {
      "cell_type": "markdown",
      "metadata": {
        "id": "GrvrLblxkz42"
      },
      "source": [
        "### Getting the predicted stock price of 2017"
      ]
    },
    {
      "cell_type": "code",
      "source": [
        "dataset_total = pd.concat((dataset_train[\"Open\"], dataset_test[\"Open\"]), axis = 0)\n",
        "inputs = dataset_total[len(dataset_total)-len(dataset_test)-60:].values\n",
        "inputs = inputs.reshape(-1, 1)\n",
        "inputs = sc.transform(inputs)\n",
        "\n",
        "X_test = []\n",
        "for i in range(60, 80):\n",
        "  X_test.append(inputs[i-60:i, 0])\n",
        "X_test = np.array(X_test)\n",
        "X_test = np.reshape(X_test, (X_test.shape[0], X_test.shape[1], 1))\n",
        "predicted_stock_price = regressor.predict(X_test)\n",
        "predicted_stock_price = sc.inverse_transform(predicted_stock_price)\n",
        "print(predicted_stock_price)\n",
        "\n"
      ],
      "metadata": {
        "colab": {
          "base_uri": "https://localhost:8080/"
        },
        "id": "7J-ewmwlwDgw",
        "outputId": "afb5d5ac-d265-4ba7-8673-2b159aaf8672"
      },
      "execution_count": 18,
      "outputs": [
        {
          "output_type": "stream",
          "name": "stdout",
          "text": [
            "1/1 [==============================] - 0s 22ms/step\n",
            "[[791.8538 ]\n",
            " [788.8954 ]\n",
            " [788.3693 ]\n",
            " [789.64545]\n",
            " [792.96075]\n",
            " [798.6214 ]\n",
            " [804.23193]\n",
            " [806.97723]\n",
            " [807.2826 ]\n",
            " [806.6512 ]\n",
            " [806.2197 ]\n",
            " [806.2058 ]\n",
            " [806.4466 ]\n",
            " [807.1642 ]\n",
            " [808.14276]\n",
            " [811.97424]\n",
            " [818.4186 ]\n",
            " [825.87396]\n",
            " [830.58636]\n",
            " [827.7023 ]]\n"
          ]
        }
      ]
    },
    {
      "cell_type": "markdown",
      "metadata": {
        "id": "iFTNs3YHk6FQ"
      },
      "source": [
        "### Visualising the results"
      ]
    },
    {
      "cell_type": "code",
      "source": [
        "plt.plot(real_stock_price, color = \"red\", label = \"Real Google Stock Price\")\n",
        "plt.plot(predicted_stock_price, color = \"blue\", label = \"Predicted Google Stock Price\")\n",
        "plt.title(\"Google Stock Price Prediction\")\n",
        "plt.xlabel(\"Time\")\n",
        "plt.ylabel(\"Price\")\n",
        "plt.legend()\n",
        "plt.show()"
      ],
      "metadata": {
        "id": "_vmPKpkZeZf7",
        "outputId": "8028f80d-6096-40e9-9e73-28f06d2d3fed",
        "colab": {
          "base_uri": "https://localhost:8080/",
          "height": 472
        }
      },
      "execution_count": 19,
      "outputs": [
        {
          "output_type": "display_data",
          "data": {
            "text/plain": [
              "<Figure size 640x480 with 1 Axes>"
            ],
            "image/png": "[encoded data removed]"
          },
          "metadata": {}
        }
      ]
    }
  ]
}